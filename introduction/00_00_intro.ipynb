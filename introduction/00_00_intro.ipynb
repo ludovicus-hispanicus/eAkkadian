{
 "cells": [
  {
   "attachments": {},
   "cell_type": "markdown",
   "metadata": {},
   "source": [
    "# Introduction\n",
    "This section introduces the Akkadian language, its history and phonemic inventory. It further describes the cuneiform script, that is intrinsically attached to Akkadian. Lastly, it shows the classification into word classes which is followed in this course.\n",
    "\n",
    "- L0.1: [Akkadian as Semitic Language](00_01_akkadian_semitic_language.ipynb)\n",
    "- L0.2: [History and Periodisation](00_02_history_periodisation.ipynb)\n",
    "- L0.3: [Akkadian Phonemes](00_03_phonems_akkadian.ipynb)\n",
    "- L0.4: [Cuneiform Script](00_04_cuneiform.ipynb)\n",
    "- L0.5: [Digital Humanities](00_06_dh.ipynb)\n",
    "- L0.6: [Exercises](00_07_exercises.ipynb)\n",
    "- L0.7: [Vocabulary & Signs](00_08_vocabulary_signs.ipynb)\n",
    "- L0.8: [Assigment](00_09_assignment.ipynb)\n"
   ]
  }
 ],
 "metadata": {
  "kernelspec": {
   "display_name": "Python 3.10.0 64-bit",
   "language": "python",
   "name": "python3"
  },
  "language_info": {
   "name": "python",
   "version": "3.10.0"
  },
  "orig_nbformat": 4,
  "vscode": {
   "interpreter": {
    "hash": "5c26deda390e14352809ff5e3846854a2e41da099b7523d3f7fcda45a1663734"
   }
  }
 },
 "nbformat": 4,
 "nbformat_minor": 2
}
