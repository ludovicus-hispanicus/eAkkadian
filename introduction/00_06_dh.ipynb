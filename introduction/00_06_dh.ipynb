{
 "cells": [
  {
   "attachments": {},
   "cell_type": "markdown",
   "metadata": {},
   "source": [
    "# L0.5: What are Digital Humanities\n",
    "\n",
    "Digital Humanities is an interdisciplinary field that combines the use of digital technologies with traditional humanities disciplines such as literature, history, linguistics, philosophy, and cultural studies. It involves the application of computational methods, tools, and approaches to analyze, interpret, and present humanities data in new and innovative ways.\n",
    "\n",
    "The goal of Digital Humanities is to enhance research, teaching, and scholarly activities within the humanities by leveraging digital technologies. This can include tasks such as digitizing and preserving cultural artifacts, creating digital archives and libraries, analyzing large sets of textual data using computational methods like text mining and natural language processing, developing interactive visualizations and multimedia projects, and engaging in collaborative online research.\n",
    "\n",
    "Digital Humanities encompasses a wide range of activities and methodologies, including text analysis, data visualization, network analysis, geospatial mapping, digital storytelling, and more. It seeks to explore new research questions, foster interdisciplinary collaborations, and create new avenues for public engagement with humanities scholarship.\n",
    "\n",
    "Overall, Digital Humanities aims to harness the power of digital tools and methodologies to advance and transform traditional humanities research and scholarship, offering new possibilities for analysis, interpretation, and dissemination of cultural and historical knowledge.\n",
    "\n",
    "Mocktext created by ChatGPT"
   ]
  }
 ],
 "metadata": {
  "kernelspec": {
   "display_name": "Python 3.10.0 64-bit",
   "language": "python",
   "name": "python3"
  },
  "language_info": {
   "name": "python",
   "version": "3.10.0"
  },
  "orig_nbformat": 4,
  "vscode": {
   "interpreter": {
    "hash": "5c26deda390e14352809ff5e3846854a2e41da099b7523d3f7fcda45a1663734"
   }
  }
 },
 "nbformat": 4,
 "nbformat_minor": 2
}
