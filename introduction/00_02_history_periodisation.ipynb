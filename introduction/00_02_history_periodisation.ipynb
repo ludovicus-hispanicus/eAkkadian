{
 "cells": [
  {
   "cell_type": "markdown",
   "metadata": {},
   "source": [
    "(hist-per)=\n",
    "```{margin} Grammar references\n",
    "GoA xxiii-xxv\n",
    "```\n",
    "# L0.2: History and Periodisation\n",
    "The earliest attestations consist of Akkadian personal names in Sumerian documents from ca. 2600 BCE. The first documents written in the Akkadian language date from ca. 2350 BCE and the last dated record is from 75 CE (Kouwenberg {cite:year}`kouwenberg_akkadian_2010`, 10). Probably around the middle of the first millenium BCE it was already extinct as a spoken language.\n",
    "\n",
    "The native designation of the language was *akkadû* i.e. *akkadītu* “Akkadian”. It is also used to refer to its dialect like \"Babylonian\" or \"Assyrian\". The name derives from the city of the empire's capital [Akkad](https://pleiades.stoa.org/places/63806066) (2400-2200 BCE), which is situated near to [Samarra](https://pleiades.stoa.org/places/894082) (Sommerfeld {cite:year}`sommerfeld_old_2021`, 514). \n",
    "\n",
    "`````{admonition} Did you know? 🤓 \n",
    ":class: tip\n",
    "After the rediscovery of the cuneiform script it was assumed that the Akkadian language was actually Assyrian. That is why this discipline is until today known as \"Assyriology.\"\n",
    "`````\n",
    "\n",
    "The Akkadian language has three main dialects: Old Akkadian, Babylonian, Assyrian and a scholarly dialect known as **Standard Babylonian**. The conventional periodisation for the Akkadian dilaects is as follows (Hasselbach-Andee {cite:year}`hasselbach-andee_classification_2021`, 137):\n",
    "\n",
    "| Period              | Old Akkadian  | Babylonian        | Assyrian |\n",
    "| --------            | --------     | --------          |--------  |\n",
    "| ca. 2600-2112 BCE   | Old Akkadian |                   |          |\n",
    "|2112 – ca. 2000 BCE  |              | Early Babylonian  |\n",
    "| ca. 2000–1500 BCE   |              | Old Babylonian    | Old Assyrian |\n",
    "| ca. 1500–1000 BCE   |              | Middle Babylonian | Middle Assyrian |\n",
    "| ca. 1000–600 BCE    |              | Neo-Babylonian    | Neo-Assyrian |\n",
    "| ca. 600 BCE–100 BCE |              | Late Babylonian   |\n",
    "\n",
    "The **Old Akkadian** is the name for the cuneiform documents written in the East Semitic dialects from the time the cuneiform script was invented until the second millenium. The number of documents are smaller in comparison to those written in the following millennia.\n",
    "\n",
    "The **Babylonian** dialect is named after the city of Babylon. It was spoken in the south of Mesopotamia, but attestations of its use are found in northern Mesopotamia, Elam, Syria, Israel, etc. It is the best attested dialect with regard to the number of known texts. The Old Babylonian stage is normally used as reference language in introductory textbooks (the same in this online coursebook) and comparative Semitic studies.\n",
    "\n",
    "The **Assyrian** dialect is named after the city of Assur. Is was spoken in the North of Mesopotamia and the western bank of the Tigris. This dialect is also well attested.\n",
    "\n",
    "The **Standard Babylonian** is a scientific and literary variety that appears after the Old Babylonian period and tries to emulate it. It was widely used in and outside Mesopotamia.\n",
    "\n",
    "```{note} \n",
    "Although the name \"Standard Babylonian\" is stablished, its use is still a matter of debate. In the German literature it is known as \"jungbabylonisch\". See Kouwenberg {cite:year}`kouwenberg_akkadian_2010`, 16 and Hess {cite:year}`hess_standard_2020`.\n",
    "``` \n",
    "\n",
    "\n"
   ]
  }
 ],
 "metadata": {
  "kernelspec": {
   "display_name": "Python 3",
   "language": "python",
   "name": "python3"
  },
  "language_info": {
   "name": "python",
   "version": "3.10.0"
  },
  "orig_nbformat": 4
 },
 "nbformat": 4,
 "nbformat_minor": 2
}
