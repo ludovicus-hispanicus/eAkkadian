{
 "cells": [
  {
   "attachments": {},
   "cell_type": "markdown",
   "metadata": {},
   "source": [
    "\n",
    "(word-class)=\n",
    "\n",
    "# L1.1: Nominals \n",
    "\n",
    "## Nominals Nouns - Adjectives - Pronouns\n",
    "In this chapter we will study the nouns, adjectives and pronouns. They all share the characteristic of being inflected.\n",
    "\n",
    "### Nouns\n",
    "Nouns in Akkadian are inflected according to:\n",
    "\n",
    "State: status rectus, status constructus and status absolutus.\n",
    "Grammatical Gender: masculine and feminine.\n",
    "Grammatical Case: nominative, genitive, accusative and locative and terminative.\n",
    "Grammatical number: singular, dual and plural.\n",
    "Adjectives\n",
    "Adjectives are inflected according to:\n",
    "\n",
    "Grammatical Gender: masculine and feminine.\n",
    "Grammatical Case: nominative, genitive, accusative and terminative.\n",
    "Grammatical number: singular and plural.\n",
    "Pronouns\n",
    "Pronouns are inflected according to:\n",
    "\n",
    "Grammatical Gender: masculine and feminine.\n",
    "Grammatical Case: nominative, genitive, accusative.\n",
    "Grammatical number: singular and plural.\n",
    "Grammatical persion: 1st, 2nd and 3rd person."
   ]
  },
  {
   "attachments": {},
   "cell_type": "markdown",
   "metadata": {},
   "source": []
  }
 ],
 "metadata": {
  "kernelspec": {
   "display_name": "Python 3.10.0 64-bit",
   "language": "python",
   "name": "python3"
  },
  "language_info": {
   "name": "python",
   "version": "3.10.0"
  },
  "orig_nbformat": 4,
  "vscode": {
   "interpreter": {
    "hash": "5c26deda390e14352809ff5e3846854a2e41da099b7523d3f7fcda45a1663734"
   }
  }
 },
 "nbformat": 4,
 "nbformat_minor": 2
}
