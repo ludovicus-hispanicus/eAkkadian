{
 "cells": [
  {
   "attachments": {},
   "cell_type": "markdown",
   "metadata": {},
   "source": [
    "````{margin} Grammar references\n",
    "GoA 3.1\n",
    "GAG §\n",
    "aBL § \n",
    "````\n",
    "# L1.1: The Semantic Root\n",
    "In the Akkadian language, as in all Semitic languages, most words are formed from a **root**. A root is a sequence of consonants that can be modified by inserting different patterns of internal vowels. Each consonant in the root is referred to as a **radical** (R). Most roots consist of three radicals: R₁-R₂-R₃. For example, the root *prs*, which means \"to divide, separate, select, decide,\" can be analyzed as follows:\n",
    "\n",
    "<ruby><font size=\"5\">P-</font><rp>(</rp><rt><i><font size=\"2\">R₁</font></i></rt><rp>)</rp></ruby><ruby><font size=\"5\">R-</font><rp>(</rp><rt><i><font size=\"2\">R₂</font></i></rt><rp>)</rp></ruby><ruby><font size=\"5\">S</font><rp>(</rp><rt><i><font size=\"2\">R₃</font></i></rt><rp>)</rp></ruby>\n",
    "\n",    
    "```{note}\n",
    "The root *P-R-S* has become a model root used to illustrate various patterns.\n",
    "```\n",
    "\n",
    "Prefixes, infixes, suffixes, and consonant doubling can be added to the root to modify it, allowing for the formation of verbs, adjectives, nouns, and adverbs. Below are some examples of modifications to the root *prs*:\n",
    "\n",
    "| Vowel Pattern     | Akkadian Word         | Morphological Analysis                 | Meaning      |   \n",
    "| ----------------- | :-------------------  | :------------------------------------ | ---------- |\n",
    "| *R₁aR₂āR₃*        | *parāsum*             | Verb in infinitive + Suffix (nominative ending)  | to divide    |\n",
    "| *R₁uR₂uR₃*        | *purus*               | Verb in imperative                      | divide!      |\n",
    "| *R₁uR₂R₂uR₃*      | *purrusum*            | Verb in infinitive with doubling of the second radical + Suffix (nominative ending) | cut off   |\n",
    "| *iR₁R₂uR₃*        | *iprus*               | Verb in preterite                      | he decided |\n",
    "| *R₁aR₂R₃*         | *parsum*              | Adjective + Suffix (nominative ending)  | cut off, separate |\n",
    "| *R₁iR₂R₃*         | *pirsum*              | Noun + Suffix (nominative ending)       | division   |\n",
    "\n",
    "\n",
    "There are also roots of two, four and five:\n",
    "\n",
    "| Vowel Pattern     | P-R-S model           | Word Class            | Morphological Analysis                 | Meaning      |   \n",
    "| ----------------- | :-------------------  | :-------------------  | :------------------------------------  | ---------- |\n",
    "| *R₁uR₂*           | *pus*                 | *mutum*               | Noun + Suffix (nominative ending)      | husband    |\n",
    "| *R₁āR₂*           | *pās*                 | *kāpum*               | Noun + Suffix (nominative ending)      | rock, cliff    |\n",
    "| *R₁aR₂R₁aR₂*      | *paspas*              | *kakkabum* (<\\**kabkabum*>) | Noun + Suffix (nominative ending) | star      |\n",
    "| *R₁aR₂R₃aR₄iR₅*   | *paršaddid*           | *šaršabittum*           | Noun + Suffix (nominative ending) | a type tree    |\n",
    "\n",
    "```{note}\n",
    "Five radical roots are very rare. \n",
    "```"
    "`````{admonition} Knowledge for Show-offs {figure}../images/like-a-sir-boss.gif \n",
    ":class: tip\n",
    "Thomas Hyde was the first one to name it \"cuneiformes\": \"Istiusmodi enim ductuli pyramidales seu Cuneiformes [...].\" (Hyde {cite:year}`hyde_1700`, 526). But he thought that these signs were just ornaments: \"Neque ea est Literarum aut Characterum aliqua Scriptura legenda, sed tantum Sculptura ornamenti causa.\" Hyde {cite:year}`hyde_1700`, *id*.\n",
    "\n",
    "`````\n",

   ]
  },
  {
   "attachments": {},
   "cell_type": "markdown",
   "metadata": {},
   "source": []
  }
 ],
 "metadata": {
  "kernelspec": {
   "display_name": "Python 3.10.0 64-bit",
   "language": "python",
   "name": "python3"
  },
  "language_info": {
   "name": "python",
   "version": "3.10.0"
  },
  "orig_nbformat": 4,
  "vscode": {
   "interpreter": {
    "hash": "5c26deda390e14352809ff5e3846854a2e41da099b7523d3f7fcda45a1663734"
   }
  }
 },
 "nbformat": 4,
 "nbformat_minor": 2
}
