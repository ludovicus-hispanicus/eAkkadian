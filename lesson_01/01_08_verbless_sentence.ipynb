{
 "cells": [
  {
   "cell_type": "markdown",
   "metadata": {},
   "source": [
    "# L1.7: Verbless Sentences\n",
    "Akkadian, as well as Hebrew, can build sentences without verbs, only by juxtaposing the subject and the predicate. The tense in these sentences can be determined only by the context.\n",
    "\n",
    "| Verbless Sentence          | Translation           |\n",
    "| -------------------------- | --------------------- |\n",
    "| *Hammurapi šar Babilim*    | Hammurapi is the king of Babilon |\n",
    "| *šarrum gitmālum anāku*    | I am the perfect king |\n",
    "\n",
    "\n"
   ]
  }
 ],
 "metadata": {
  "kernelspec": {
   "display_name": "Python 3.10.0 64-bit",
   "language": "python",
   "name": "python3"
  },
  "language_info": {
   "name": "python",
   "version": "3.10.0"
  },
  "orig_nbformat": 4,
  "vscode": {
   "interpreter": {
    "hash": "5c26deda390e14352809ff5e3846854a2e41da099b7523d3f7fcda45a1663734"
   }
  }
 },
 "nbformat": 4,
 "nbformat_minor": 2
}
