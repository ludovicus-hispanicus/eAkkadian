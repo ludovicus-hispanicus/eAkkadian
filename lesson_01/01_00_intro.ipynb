{
 "cells": [
  {
   "attachments": {},
   "cell_type": "markdown",
   "metadata": {},
   "source": [
    "# Lesson 1\n",
    "In this chapter we will study the semantic root and the Nominal forms.\n",
    "\n",
    "- L1.1: [The Semantic Root](01_01_semantic-root.ipynb)\n",
    "- L1.2: [Nominals](01_02_nominals.ipynb)\n",
    "- L1.3: [Status](01_03_nouns_status.ipynb)\n",
    "- L1.4: [Status Constructus](01_04_status-constructus.ipynb)\n",
    "- L1.5: [Nominal Inflection](01_05_nominal_inflection.ipynb)\n",
    "- L1.6: [Prepositions & Particles](01_06_prep-part.ipynb)\n",
    "- L1.7: [Locative-Adverbiative](01_07_adverb_noun_um.ipynb)\n",
    "- L1.8: [Terminativ-Adverbiative](01_08_adverb_noun_ish.ipynb)\n",
    "- L1.9: [Digital Projects in the Assyriology](01_09_digital-projects.ipynb)\n",
    "- L1.10: [Exercises](01_10_exercises.ipynb)\n",
    "- L1.11: [Vocabulary & Signs](01_11_vocab_signs.ipynb)\n",
    "- L1.12: [Assignment](01_12_assignment.ipynb)"
   ]
  }
 ],
 "metadata": {
  "kernelspec": {
   "display_name": "Python 3.10.0 64-bit",
   "language": "python",
   "name": "python3"
  },
  "language_info": {
   "name": "python",
   "version": "3.10.0"
  },
  "orig_nbformat": 4,
  "vscode": {
   "interpreter": {
    "hash": "5c26deda390e14352809ff5e3846854a2e41da099b7523d3f7fcda45a1663734"
   }
  }
 },
 "nbformat": 4,
 "nbformat_minor": 2
}
