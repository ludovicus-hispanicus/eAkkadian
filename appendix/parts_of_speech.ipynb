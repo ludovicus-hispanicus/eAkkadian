{
 "cells": [
  {
   "cell_type": "markdown",
   "metadata": {},
   "source": [
    "# Word Class (Parts of Speech)\n",
    "We will follow the classical classification according to part of speech (word classes) as modern scholars in Assyriology follow this classification as well. In Akkadian we classify the following word classes:\n",
    "\n",
    "Nouns\n",
    "Adjectives\n",
    "Pronouns\n",
    "Verbs\n",
    "Adverbs\n",
    "Numerals\n",
    "Prepositions\n",
    "Conjunction\n",
    "Subjunctions\n",
    "Negation\n",
    "Particles\n",
    "Interjections\n",
    "\n",
    "```{note}\n",
    "In Akkadian there is no definite article. The definiteness is determined according to the context.\n",
    "```"
   ]
  }
 ],
 "metadata": {
  "language_info": {
   "name": "python"
  }
 },
 "nbformat": 4,
 "nbformat_minor": 2
}
