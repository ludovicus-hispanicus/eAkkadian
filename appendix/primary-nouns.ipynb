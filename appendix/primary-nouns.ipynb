{
 "cells": [
  {
   "attachments": {},
   "cell_type": "markdown",
   "metadata": {},
   "source": [
    "(primary-nouns)=\n",
    "# Primary Nouns\n",
    "\n",
    "A primary noun is a noun that is not derived from an adjective or a verb and is likely an original term used for the designation of objects. These nouns do not follow the regular rules of nominal construction and can therefore take on any arbitrary form. Primary nouns are typically found in the following semantic domains:\n",
    "\n",
    "\n",
    "```{admonition} Names for family relationships\n",
    ":class: tip\n",
    "- *mārum* = son\n",
    "```\n",
    "\n",
    "```{admonition} Body parts\n",
    ":class: tip\n",
    "- *amūtum* = liver\n",
    "```\n",
    "\n",
    "```{admonition} Animal names\n",
    ":class: tip\n",
    "- *ajjalum* = deer\n",
    "```\n",
    "\n",
    "```{admonition} Plant names\n",
    ":class: tip\n",
    "- *alappānum* = promegranate\n",
    "```\n",
    "\n",
    "```{admonition} Mineral/Metal names\n",
    ":class: tip\n",
    "- *abnum* = stone\n",
    "```\n",
    "\n",
    "```{admonition} Terms related to time\n",
    ":class: tip\n",
    "- *šattum* = Jahr\n",
    "```\n",
    "\n",
    "```{admonition} Geographical terms\n",
    ":class: tip\n",
    "- *erṣetum* = earth\n",
    "```\n",
    "\n",
    "```{admonition} Names for buildings (or parts of buildings)\n",
    ":class: tip\n",
    "- *arammum* = dam\n",
    "```\n",
    "\n",
    "```{admonition} Names for tools or equipment\n",
    ":class: tip\n",
    "- *ašāšum* = basket\n",
    "```\n",
    "\n",
    "```{admonition} Loanwords\n",
    ":class: tip\n",
    "- *ekallum* = palace\n",
    "```\n",
    "\n"
   ]
  }
 ],
 "metadata": {
  "kernelspec": {
   "display_name": "Python 3",
   "language": "python",
   "name": "python3"
  },
  "language_info": {
   "name": "python",
   "version": "3.10.0"
  },
  "orig_nbformat": 4,
  "vscode": {
   "interpreter": {
    "hash": "5c26deda390e14352809ff5e3846854a2e41da099b7523d3f7fcda45a1663734"
   }
  }
 },
 "nbformat": 4,
 "nbformat_minor": 2
}
